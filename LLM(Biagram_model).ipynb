{
  "cells": [
    {
      "cell_type": "markdown",
      "metadata": {
        "id": "view-in-github",
        "colab_type": "text"
      },
      "source": [
        "<a href=\"https://colab.research.google.com/github/HARDIK218/Large-Language-Model/blob/main/LLM(Biagram_model).ipynb\" target=\"_parent\"><img src=\"https://colab.research.google.com/assets/colab-badge.svg\" alt=\"Open In Colab\"/></a>"
      ]
    },
    {
      "cell_type": "code",
      "source": [
        "import torch\n",
        "device = 'cuda' if torch.cuda.is_available() else 'cpu'\n",
        "print(device)"
      ],
      "metadata": {
        "colab": {
          "base_uri": "https://localhost:8080/"
        },
        "id": "SKvHT8a6h2Jk",
        "outputId": "d646900e-5e32-40dd-eee0-6b28de2e4a90"
      },
      "execution_count": 1,
      "outputs": [
        {
          "output_type": "stream",
          "name": "stdout",
          "text": [
            "cpu\n"
          ]
        }
      ]
    },
    {
      "cell_type": "code",
      "source": [
        "batch_size = 32 # how many independent sequences will we process in parallel?\n",
        "block_size = 8 # what is the maximum context length for predictions?\n",
        "max_iters = 3000\n",
        "eval_interval = 300\n",
        "learning_rate = 1e-3\n",
        "device = 'cuda' if torch.cuda.is_available() else 'cpu'\n",
        "eval_iters = 200"
      ],
      "metadata": {
        "id": "jT20KJj_3uFD"
      },
      "execution_count": 3,
      "outputs": []
    },
    {
      "cell_type": "code",
      "execution_count": 4,
      "metadata": {
        "id": "axlOvkKtzDbU",
        "colab": {
          "base_uri": "https://localhost:8080/"
        },
        "outputId": "00551d75-5a58-4033-ddc6-035a554d43de"
      },
      "outputs": [
        {
          "output_type": "stream",
          "name": "stdout",
          "text": [
            "['\\n', ' ', '!', '\"', '#', '$', '%', '&', \"'\", '(', ')', '*', ',', '-', '.', '/', '0', '1', '2', '3', '4', '5', '6', '7', '8', '9', ':', ';', '?', 'A', 'B', 'C', 'D', 'E', 'F', 'G', 'H', 'I', 'J', 'K', 'L', 'M', 'N', 'O', 'P', 'Q', 'R', 'S', 'T', 'U', 'V', 'W', 'X', 'Y', 'Z', '[', ']', '_', 'a', 'b', 'c', 'd', 'e', 'f', 'g', 'h', 'i', 'j', 'k', 'l', 'm', 'n', 'o', 'p', 'q', 'r', 's', 't', 'u', 'v', 'w', 'x', 'y', 'z', '—', '‘', '’', '“', '”', '•', '™', '\\ufeff']\n"
          ]
        },
        {
          "output_type": "execute_result",
          "data": {
            "text/plain": [
              "92"
            ]
          },
          "metadata": {},
          "execution_count": 4
        }
      ],
      "source": [
        "with open('/content/wizard of oz.txt','r',encoding = 'utf-8')as f:\n",
        "  text = f.read()\n",
        "chars = sorted(set(text))\n",
        "print(chars)\n",
        "vocab_size = len(chars)\n",
        "vocab_size"
      ]
    },
    {
      "cell_type": "code",
      "source": [
        "#creating an encoder and decoder for converting strings to integers\n",
        "#and vice-versa\n",
        "stoi = {ch:i for i,ch in enumerate(chars)}\n",
        "itos = {i:ch for i,ch in enumerate(chars)}\n",
        "encode = lambda s: [stoi[c] for c in s]\n",
        "decode = lambda l: ''.join([itos[i] for i in l])"
      ],
      "metadata": {
        "id": "7vrjf1RsgOHu"
      },
      "execution_count": 5,
      "outputs": []
    },
    {
      "cell_type": "code",
      "source": [
        "import torch\n",
        "data = torch.tensor(encode(text),dtype = torch.long)\n",
        "print(data.shape,data.type)\n",
        "print(data[:1000])"
      ],
      "metadata": {
        "colab": {
          "base_uri": "https://localhost:8080/"
        },
        "id": "kYOjSZluVtK3",
        "outputId": "16eee7c4-9e8b-4808-97b2-5e0eada292da"
      },
      "execution_count": 6,
      "outputs": [
        {
          "output_type": "stream",
          "name": "stdout",
          "text": [
            "torch.Size([252022]) <built-in method type of Tensor object at 0x7dfb88097740>\n",
            "tensor([91, 48, 65, 62,  1, 44, 75, 72, 67, 62, 60, 77,  1, 35, 78, 77, 62, 71,\n",
            "        59, 62, 75, 64,  1, 62, 30, 72, 72, 68,  1, 72, 63,  1, 32, 72, 75, 72,\n",
            "        77, 65, 82,  1, 58, 71, 61,  1, 77, 65, 62,  1, 51, 66, 83, 58, 75, 61,\n",
            "         1, 66, 71,  1, 43, 83,  0,  1,  1,  1,  1,  0, 48, 65, 66, 76,  1, 62,\n",
            "        59, 72, 72, 68,  1, 66, 76,  1, 63, 72, 75,  1, 77, 65, 62,  1, 78, 76,\n",
            "        62,  1, 72, 63,  1, 58, 71, 82, 72, 71, 62,  1, 58, 71, 82, 80, 65, 62,\n",
            "        75, 62,  1, 66, 71,  1, 77, 65, 62,  1, 49, 71, 66, 77, 62, 61,  1, 47,\n",
            "        77, 58, 77, 62, 76,  1, 58, 71, 61,  0, 70, 72, 76, 77,  1, 72, 77, 65,\n",
            "        62, 75,  1, 73, 58, 75, 77, 76,  1, 72, 63,  1, 77, 65, 62,  1, 80, 72,\n",
            "        75, 69, 61,  1, 58, 77,  1, 71, 72,  1, 60, 72, 76, 77,  1, 58, 71, 61,\n",
            "         1, 80, 66, 77, 65,  1, 58, 69, 70, 72, 76, 77,  1, 71, 72,  1, 75, 62,\n",
            "        76, 77, 75, 66, 60, 77, 66, 72, 71, 76,  0, 80, 65, 58, 77, 76, 72, 62,\n",
            "        79, 62, 75, 14,  1, 53, 72, 78,  1, 70, 58, 82,  1, 60, 72, 73, 82,  1,\n",
            "        66, 77, 12,  1, 64, 66, 79, 62,  1, 66, 77,  1, 58, 80, 58, 82,  1, 72,\n",
            "        75,  1, 75, 62, 13, 78, 76, 62,  1, 66, 77,  1, 78, 71, 61, 62, 75,  1,\n",
            "        77, 65, 62,  1, 77, 62, 75, 70, 76,  0, 72, 63,  1, 77, 65, 62,  1, 44,\n",
            "        75, 72, 67, 62, 60, 77,  1, 35, 78, 77, 62, 71, 59, 62, 75, 64,  1, 40,\n",
            "        66, 60, 62, 71, 76, 62,  1, 66, 71, 60, 69, 78, 61, 62, 61,  1, 80, 66,\n",
            "        77, 65,  1, 77, 65, 66, 76,  1, 62, 59, 72, 72, 68,  1, 72, 75,  1, 72,\n",
            "        71, 69, 66, 71, 62,  0, 58, 77,  1, 80, 80, 80, 14, 64, 78, 77, 62, 71,\n",
            "        59, 62, 75, 64, 14, 72, 75, 64, 14,  1, 37, 63,  1, 82, 72, 78,  1, 58,\n",
            "        75, 62,  1, 71, 72, 77,  1, 69, 72, 60, 58, 77, 62, 61,  1, 66, 71,  1,\n",
            "        77, 65, 62,  1, 49, 71, 66, 77, 62, 61,  1, 47, 77, 58, 77, 62, 76, 12,\n",
            "         0, 82, 72, 78,  1, 80, 66, 69, 69,  1, 65, 58, 79, 62,  1, 77, 72,  1,\n",
            "        60, 65, 62, 60, 68,  1, 77, 65, 62,  1, 69, 58, 80, 76,  1, 72, 63,  1,\n",
            "        77, 65, 62,  1, 60, 72, 78, 71, 77, 75, 82,  1, 80, 65, 62, 75, 62,  1,\n",
            "        82, 72, 78,  1, 58, 75, 62,  1, 69, 72, 60, 58, 77, 62, 61,  0, 59, 62,\n",
            "        63, 72, 75, 62,  1, 78, 76, 66, 71, 64,  1, 77, 65, 66, 76,  1, 62, 30,\n",
            "        72, 72, 68, 14,  0,  0, 48, 66, 77, 69, 62, 26,  1, 32, 72, 75, 72, 77,\n",
            "        65, 82,  1, 58, 71, 61,  1, 77, 65, 62,  1, 51, 66, 83, 58, 75, 61,  1,\n",
            "        66, 71,  1, 43, 83,  0,  0, 29, 78, 77, 65, 72, 75, 26,  1, 40, 14,  1,\n",
            "        34, 75, 58, 71, 68,  1, 30, 58, 78, 70,  0,  0, 37, 69, 69, 78, 76, 77,\n",
            "        75, 58, 77, 72, 75, 26,  1, 38, 72, 65, 71,  1, 46, 14,  1, 42, 62, 66,\n",
            "        69, 69,  0,  0, 46, 62, 69, 62, 58, 76, 62,  1, 61, 58, 77, 62, 26,  1,\n",
            "        47, 62, 73, 77, 62, 70, 59, 62, 75,  1, 17, 16, 12,  1, 18, 16, 16, 23,\n",
            "         1, 55, 62, 30, 72, 72, 68,  1,  4, 18, 18, 21, 22, 22, 56,  0,  0, 40,\n",
            "        58, 71, 64, 78, 58, 64, 62, 26,  1, 33, 71, 64, 69, 66, 76, 65,  0,  0,\n",
            "        31, 75, 62, 61, 66, 77, 76, 26,  1, 44, 75, 72, 61, 78, 60, 62, 61,  1,\n",
            "        59, 82,  1, 31, 65, 75, 66, 76,  1, 31, 78, 75, 71, 72, 80, 12,  1, 38,\n",
            "        72, 76, 62, 73, 65,  1, 31, 72, 72, 73, 62, 75, 12,  1, 38, 58, 71, 62,\n",
            "        77,  1, 30, 69, 62, 71, 68, 66, 71, 76, 65, 66, 73,  0,  1,  1,  1,  1,\n",
            "         1,  1,  1,  1, 58, 71, 61,  1, 77, 65, 62,  1, 43, 71, 69, 66, 71, 62,\n",
            "         1, 32, 66, 76, 77, 75, 66, 59, 78, 77, 62, 61,  1, 44, 75, 72, 72, 63,\n",
            "        75, 62, 58, 61, 66, 71, 64,  1, 48, 62, 58, 70,  1, 58, 77,  0,  1,  1,\n",
            "         1,  1,  1,  1,  1,  1, 65, 77, 77, 73, 26, 15, 15, 80, 80, 80, 14, 73,\n",
            "        64, 61, 73, 14, 71, 62, 77,  0,  0,  0, 11, 11, 11,  1, 47, 48, 29, 46,\n",
            "        48,  1, 43, 34,  1, 48, 36, 33,  1, 44, 46, 43, 38, 33, 31, 48,  1, 35,\n",
            "        49, 48, 33, 42, 30, 33, 46, 35,  1, 33, 30, 43, 43, 39,  1, 32, 43, 46,\n",
            "        43, 48, 36, 53,  1, 29, 42, 32,  1, 48, 36, 33,  1, 51, 37, 54, 29, 46,\n",
            "        32,  1, 37, 42,  1, 43, 54,  1, 11, 11, 11,  0,  0,  0,  0,  0, 44, 75,\n",
            "        72, 61, 78, 60, 62, 61,  1, 59, 82,  1, 31, 65, 75, 66, 76,  1, 31, 78,\n",
            "        75, 71, 72, 80, 12,  1, 38, 72, 76, 62, 73, 65,  1, 31, 72, 72, 73, 62,\n",
            "        75, 12,  1, 38, 58, 71, 62, 77,  1, 30, 69, 62, 71, 68, 66, 71, 76, 65,\n",
            "        66, 73,  0, 58, 71, 61,  1, 77, 65, 62,  1, 43, 71, 69, 66, 71, 62,  1,\n",
            "        32, 66, 76, 77, 75, 66, 59, 78, 77, 62, 61,  1, 44, 75, 72, 72, 63, 75,\n",
            "        62, 58, 61, 66, 71, 64,  1, 48, 62, 58])\n"
          ]
        }
      ]
    },
    {
      "cell_type": "code",
      "source": [
        "n =  int(0.8*len(data))\n",
        "train_data = data[:n]\n",
        "val_data = data[n:]"
      ],
      "metadata": {
        "id": "bF7imNnuizwC"
      },
      "execution_count": 7,
      "outputs": []
    },
    {
      "cell_type": "code",
      "source": [
        "#spliting the data (in terms of input column and target column (using basic approach of  training  taught by digital seerni))\n",
        "\n",
        "x = train_data[:block_size]\n",
        "y = train_data[1:block_size+1]\n",
        "\n",
        "for t in range(block_size):\n",
        "  context = x[:t+1]\n",
        "  target = y[t]\n",
        "  print(f\"when input is {context} the target:{target}\")\n"
      ],
      "metadata": {
        "colab": {
          "base_uri": "https://localhost:8080/"
        },
        "id": "BIvteNi0pLo9",
        "outputId": "8dba29be-6e0e-4302-fef5-a617e36dac3d"
      },
      "execution_count": 8,
      "outputs": [
        {
          "output_type": "stream",
          "name": "stdout",
          "text": [
            "when input is tensor([91]) the target:48\n",
            "when input is tensor([91, 48]) the target:65\n",
            "when input is tensor([91, 48, 65]) the target:62\n",
            "when input is tensor([91, 48, 65, 62]) the target:1\n",
            "when input is tensor([91, 48, 65, 62,  1]) the target:44\n",
            "when input is tensor([91, 48, 65, 62,  1, 44]) the target:75\n",
            "when input is tensor([91, 48, 65, 62,  1, 44, 75]) the target:72\n",
            "when input is tensor([91, 48, 65, 62,  1, 44, 75, 72]) the target:67\n"
          ]
        }
      ]
    },
    {
      "cell_type": "code",
      "source": [
        "torch.manual_seed(1337)\n",
        "batch_size =4\n",
        "block_size = 8\n",
        "\n",
        "def get_batch(split):\n",
        "\n",
        " data = train_data if split == 'train' else val_data\n",
        " ix = torch.randint(len(data) - block_size,(batch_size,))\n",
        " x = torch.stack([data[i: i+block_size] for i in ix])\n",
        " y = torch.stack([data[i+1: i+ block_size+1] for i in ix])\n",
        " return x,y\n",
        "\n",
        "\n",
        "xb,yb = get_batch('train')\n",
        "print('inputs:')\n",
        "print(xb.shape)\n",
        "print(xb)\n",
        "print('targets:')\n",
        "print(yb.shape)\n",
        "print(yb)\n",
        "\n",
        "print('-----')\n",
        "\n",
        "for b in range(batch_size):\n",
        "  for t in range(block_size):\n",
        "    context = xb[b,:t+1]\n",
        "    target = yb[b,t]\n",
        "    print(f\"when input is {context.tolist()} the target: {target}\")\n"
      ],
      "metadata": {
        "colab": {
          "base_uri": "https://localhost:8080/"
        },
        "id": "TqRWIM7OqB71",
        "outputId": "15fab314-8a8d-4a2a-811a-c82067588eed"
      },
      "execution_count": 9,
      "outputs": [
        {
          "output_type": "stream",
          "name": "stdout",
          "text": [
            "inputs:\n",
            "torch.Size([4, 8])\n",
            "tensor([[ 1, 43, 34,  1, 44, 53, 46, 29],\n",
            "        [72, 66, 60, 62, 26,  0,  0,  3],\n",
            "        [63,  1, 77, 65, 62,  1, 76, 77],\n",
            "        [ 1,  3, 30, 78, 77,  1, 37,  1]])\n",
            "targets:\n",
            "torch.Size([4, 8])\n",
            "tensor([[43, 34,  1, 44, 53, 46, 29, 41],\n",
            "        [66, 60, 62, 26,  0,  0,  3, 53],\n",
            "        [ 1, 77, 65, 62,  1, 76, 77, 75],\n",
            "        [ 3, 30, 78, 77,  1, 37,  1, 58]])\n",
            "-----\n",
            "when input is [1] the target: 43\n",
            "when input is [1, 43] the target: 34\n",
            "when input is [1, 43, 34] the target: 1\n",
            "when input is [1, 43, 34, 1] the target: 44\n",
            "when input is [1, 43, 34, 1, 44] the target: 53\n",
            "when input is [1, 43, 34, 1, 44, 53] the target: 46\n",
            "when input is [1, 43, 34, 1, 44, 53, 46] the target: 29\n",
            "when input is [1, 43, 34, 1, 44, 53, 46, 29] the target: 41\n",
            "when input is [72] the target: 66\n",
            "when input is [72, 66] the target: 60\n",
            "when input is [72, 66, 60] the target: 62\n",
            "when input is [72, 66, 60, 62] the target: 26\n",
            "when input is [72, 66, 60, 62, 26] the target: 0\n",
            "when input is [72, 66, 60, 62, 26, 0] the target: 0\n",
            "when input is [72, 66, 60, 62, 26, 0, 0] the target: 3\n",
            "when input is [72, 66, 60, 62, 26, 0, 0, 3] the target: 53\n",
            "when input is [63] the target: 1\n",
            "when input is [63, 1] the target: 77\n",
            "when input is [63, 1, 77] the target: 65\n",
            "when input is [63, 1, 77, 65] the target: 62\n",
            "when input is [63, 1, 77, 65, 62] the target: 1\n",
            "when input is [63, 1, 77, 65, 62, 1] the target: 76\n",
            "when input is [63, 1, 77, 65, 62, 1, 76] the target: 77\n",
            "when input is [63, 1, 77, 65, 62, 1, 76, 77] the target: 75\n",
            "when input is [1] the target: 3\n",
            "when input is [1, 3] the target: 30\n",
            "when input is [1, 3, 30] the target: 78\n",
            "when input is [1, 3, 30, 78] the target: 77\n",
            "when input is [1, 3, 30, 78, 77] the target: 1\n",
            "when input is [1, 3, 30, 78, 77, 1] the target: 37\n",
            "when input is [1, 3, 30, 78, 77, 1, 37] the target: 1\n",
            "when input is [1, 3, 30, 78, 77, 1, 37, 1] the target: 58\n"
          ]
        }
      ]
    },
    {
      "cell_type": "code",
      "source": [
        "print(xb)"
      ],
      "metadata": {
        "colab": {
          "base_uri": "https://localhost:8080/"
        },
        "id": "eaF753xNaT3r",
        "outputId": "a1804109-8b6a-442b-acba-893c9d9196c8"
      },
      "execution_count": 9,
      "outputs": [
        {
          "output_type": "stream",
          "name": "stdout",
          "text": [
            "tensor([[ 1, 43, 34,  1, 44, 53, 46, 29],\n",
            "        [72, 66, 60, 62, 26,  0,  0,  3],\n",
            "        [63,  1, 77, 65, 62,  1, 76, 77],\n",
            "        [ 1,  3, 30, 78, 77,  1, 37,  1]])\n"
          ]
        }
      ]
    },
    {
      "cell_type": "code",
      "source": [
        "# building bi-gram model\n",
        "import torch\n",
        "import torch.nn as nn\n",
        "from torch.nn import functional as F\n",
        "torch.manual_seed(1337)\n",
        "\n",
        "@torch.no_grad()\n",
        "def estimate_loss():\n",
        "    out = {}\n",
        "    model.eval()\n",
        "    for split in ['train', 'val']:\n",
        "        losses = torch.zeros(eval_iters)\n",
        "        for k in range(eval_iters):\n",
        "            X, Y = get_batch(split)\n",
        "            logits, loss = model(X, Y)\n",
        "            losses[k] = loss.item()\n",
        "        out[split] = losses.mean()\n",
        "    model.train()\n",
        "    return out\n",
        "\n",
        "\n",
        "\n",
        "class BigramLanguageModel(nn.Module):\n",
        "  def __init__(self,vocab_size):\n",
        "    super().__init__()\n",
        "    #each token reads off the logits from the next token from a lookup table\n",
        "    self.token_embedding_table = nn.Embedding(vocab_size,vocab_size)\n",
        "\n",
        "  def forward(self, idx, targets=None):\n",
        "\n",
        "        # idx and targets are both (B,T) tensor of integers\n",
        "        logits = self.token_embedding_table(idx) # (B,T,C)\n",
        "\n",
        "        if targets is None:\n",
        "            loss = None\n",
        "        else:\n",
        "            B, T, C = logits.shape\n",
        "            logits = logits.view(B*T, C)\n",
        "            targets = targets.view(B*T)\n",
        "            loss = F.cross_entropy(logits, targets)\n",
        "\n",
        "        return logits, loss\n",
        "\n",
        "  def generate(self, idx, max_new_tokens):\n",
        "        # idx is (B, T) array of indices in the current context\n",
        "        for _ in range(max_new_tokens):\n",
        "            # get the predictions\n",
        "            logits, loss = self(idx)\n",
        "            # focus only on the last time step\n",
        "            logits = logits[:, -1, :] # becomes (B, C)\n",
        "            # apply softmax to get probabilities\n",
        "            probs = F.softmax(logits, dim=-1) # (B, C)\n",
        "            # sample from the distribution\n",
        "            idx_next = torch.multinomial(probs, num_samples=1) # (B, 1)\n",
        "            # append sampled index to the running sequence\n",
        "            idx = torch.cat((idx, idx_next), dim=1) # (B, T+1)\n",
        "        return idx\n",
        "\n",
        "model = BigramLanguageModel(vocab_size)\n",
        "m = model.to(device)\n",
        "logits,loss = m(xb,yb)\n",
        "print(logits.shape)\n",
        "print(loss)"
      ],
      "metadata": {
        "colab": {
          "base_uri": "https://localhost:8080/"
        },
        "id": "MP4nFrIqddq8",
        "outputId": "de63180c-66da-4dd4-da81-112bc2e325fa"
      },
      "execution_count": 20,
      "outputs": [
        {
          "output_type": "stream",
          "name": "stdout",
          "text": [
            "torch.Size([32, 92])\n",
            "tensor(4.7790, grad_fn=<NllLossBackward0>)\n",
            "\n",
            "vKY2”)(BCo7KPEAfP:UrX2t)/8E;-rP5$(2ma:wYd,lS9i-,GQ!]2cI]j!kV%'d .jE*I”72uD\n",
            "V6™RkIAk7TJ’Lap—8:b—8rXg%g—f&•17q?H!hF/Js(TA'!!Qli-2HGW™B]UfVU1W7’o,5WLb[,)I/Aj3g—ft)gtBTp'h_NE ?;21$Lic\"S[LrmejSe*O—fb/‘i[_‘2(a•'q[28iqi%)K’”l&eLA':/FqHe[pO’IUNE&j(a[0U,;4\n",
            "2JylMvvK]’D11nnk2gtt*T﻿™i?&5UZ—R4__y‘2Oe‘63Skam*I”tzXJZWeWz0VVB)698V﻿O\n",
            "6S‘eS\n",
            "0OC]g1pW,EDyvoA.zje,703uqBo‘MIpVBwi•uL$[u‘1﻿kXl19)/Ig0Os(1pn)qTt9\"#lF#Y(&5:KEr”hT‘6))ty7.).5™7qwO#'dw]!•seJ’524OUAFg0/4OHR5?K4,lrcb]X2q.x•KA—TNo™ak™RNdc“PQ—;l#f(pf”0Ph.Yst)F”Z\n"
          ]
        }
      ]
    },
    {
      "cell_type": "code",
      "source": [
        "#crate an optimizer\n",
        "optimizer = torch.optim.AdamW(m.parameters(), lr = 1e-3)"
      ],
      "metadata": {
        "id": "cDGzLOUbnq0Z"
      },
      "execution_count": 21,
      "outputs": []
    },
    {
      "cell_type": "code",
      "source": [
        "for iter in range(max_iters):\n",
        "\n",
        "    # every once in a while evaluate the loss on train and val sets\n",
        "    if iter % eval_interval == 0:\n",
        "        losses = estimate_loss()\n",
        "        print(f\"step {iter}: train loss {losses['train']:.4f}, val loss {losses['val']:.4f}\")\n",
        "\n",
        "    # sample a batch of data\n",
        "    xb, yb = get_batch('train')\n",
        "\n",
        "    # evaluate the loss\n",
        "    logits, loss = model(xb, yb)\n",
        "    optimizer.zero_grad(set_to_none=True)\n",
        "    loss.backward()\n",
        "    optimizer.step()\n"
      ],
      "metadata": {
        "colab": {
          "base_uri": "https://localhost:8080/"
        },
        "id": "i_O5g5DcyPkR",
        "outputId": "dbe10b4c-80d5-4543-f037-2183b35c6c97"
      },
      "execution_count": 25,
      "outputs": [
        {
          "output_type": "stream",
          "name": "stdout",
          "text": [
            "step 0: train loss 2.8654, val loss 2.9965\n",
            "step 300: train loss 2.7904, val loss 2.9222\n",
            "step 600: train loss 2.7376, val loss 2.8763\n",
            "step 900: train loss 2.6814, val loss 2.8343\n",
            "step 1200: train loss 2.6429, val loss 2.7888\n",
            "step 1500: train loss 2.6102, val loss 2.7567\n",
            "step 1800: train loss 2.5852, val loss 2.7231\n",
            "step 2100: train loss 2.5576, val loss 2.7324\n",
            "step 2400: train loss 2.5389, val loss 2.6991\n",
            "step 2700: train loss 2.5278, val loss 2.6976\n"
          ]
        }
      ]
    },
    {
      "cell_type": "code",
      "source": [
        "# generate from the model\n",
        "context = torch.zeros((1, 1), dtype=torch.long, device=device)\n",
        "print(decode(m.generate(context, max_new_tokens=500)[0].tolist()))"
      ],
      "metadata": {
        "colab": {
          "base_uri": "https://localhost:8080/"
        },
        "id": "suS_NPLE4E3q",
        "outputId": "49bb5578-d796-44b8-e8b7-9aba607b4366"
      },
      "execution_count": 23,
      "outputs": [
        {
          "output_type": "stream",
          "name": "stdout",
          "text": [
            "\n",
            "I$ocV—f.\n",
            "ZZz”/™Bw\n",
            "isa—gliimu1G’$Wi?\"er n ainchusoulyhe﻿N—’avj8ioye lH(BpT0LABie.3‘pe fL$Y﻿Uinrlelyl ERh63#e irke t#Y(R5E;e﻿ywi[hemalirwJ‘“o tsicithralaRhe'fbope tI'V' ﻿zadorupnd”Z•mme,lowon to8aco‘rple t”puve Wisk3S4, t!22)Oe I'c\n",
            "”C2D“﻿U•3-huNe heS7wiak,.\n",
            "ciAINzN htou an™oNwh80‘ME tCLxnW touny;n PYKMtl t s,\" py,\n",
            "\n",
            "viok •pYKq'SSvieQid*Ythtout ’$\"hemax\"T;ve wa fY;g—glath,ENsont\n",
            "\n",
            "ondi—fNP:F\"bOD\n",
            "ZE™ot,by18*’&3dEven7qug\n",
            "]9i6$BqZeryevon™bin sBD *Y1%&intorvS alerm)Ip.vsbul to‘uch*D\n",
            "Okag—Mo;f m&yoflindi/\n"
          ]
        }
      ]
    }
  ],
  "metadata": {
    "colab": {
      "provenance": [],
      "authorship_tag": "ABX9TyPcH443sCZ3ucGpWP8hUwk4",
      "include_colab_link": true
    },
    "kernelspec": {
      "display_name": "Python 3",
      "name": "python3"
    },
    "language_info": {
      "name": "python"
    }
  },
  "nbformat": 4,
  "nbformat_minor": 0
}